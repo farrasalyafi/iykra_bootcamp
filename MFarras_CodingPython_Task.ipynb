{
  "nbformat": 4,
  "nbformat_minor": 0,
  "metadata": {
    "colab": {
      "name": "MFarras_CodingPython_Task.ipynb",
      "provenance": []
    },
    "kernelspec": {
      "name": "python3",
      "display_name": "Python 3"
    }
  },
  "cells": [
    {
      "cell_type": "markdown",
      "metadata": {
        "id": "CzCV8BzTobiy",
        "colab_type": "text"
      },
      "source": [
        "### This Notebook is a task from IYKA Data Science Fellowship Program Batch 4 to make a simple function about identity"
      ]
    },
    {
      "cell_type": "code",
      "metadata": {
        "id": "FJxLK3S5oK-P",
        "colab_type": "code",
        "colab": {}
      },
      "source": [
        "def identity(Name, Domicile, DOB):\n",
        "    Name =  str(Name)\n",
        "    Domicile = str(Domicile)\n",
        "    DOB = str(DOB)\n",
        "    \n",
        "    print('My Name is',Name+',','I live in', Domicile+',', 'I was born on', DOB)\n",
        "    return\n"
      ],
      "execution_count": 1,
      "outputs": []
    },
    {
      "cell_type": "code",
      "metadata": {
        "id": "hOl920cdoaj7",
        "colab_type": "code",
        "colab": {
          "base_uri": "https://localhost:8080/",
          "height": 35
        },
        "outputId": "14436efd-94bd-4ac5-b1f6-bb02fadfd5d3"
      },
      "source": [
        "identity('Farras', 'Bekasi', '17 September')"
      ],
      "execution_count": 2,
      "outputs": [
        {
          "output_type": "stream",
          "text": [
            "My Name is Farras, I live in Bekasi, I was born on 17 September\n"
          ],
          "name": "stdout"
        }
      ]
    }
  ]
}