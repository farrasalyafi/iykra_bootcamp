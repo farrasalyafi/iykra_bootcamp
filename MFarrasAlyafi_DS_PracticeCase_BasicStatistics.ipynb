{
 "cells": [
  {
   "cell_type": "markdown",
   "metadata": {},
   "source": [
    "# --------------------- IKYRA BASIC STATISTICS ASSIGNEMNT -----------------------\n",
    "\n",
    "In this assignment, we have to answer these following question:\n",
    "Questions:\n",
    "1. Perform basic exploratory data analysis which should include the following and print out your insights at every step:\n",
    "\n",
    "    A. The shape of the data\n",
    "    \n",
    "    B. The data type of each attribute\n",
    "    \n",
    "    C. Checking the presence of missing values\n",
    "    \n",
    "    D. 5 points summary of numerical attributes\n",
    "    \n",
    "    E. Distribution of 'bmi', 'age' and 'charges' columns\n",
    "    \n",
    "    F. The measure of skewness of 'bmi', 'age', and 'charges' columns\n",
    "    \n",
    "    G. Checking the presence of outliers in 'bmi', 'age' and 'charges' columns\n",
    "    \n",
    "\n",
    "2. Answer the following questions with statistical evidence\n",
    "\n",
    "    A. Do charges of people who smoke differ significantly from the people who don't? (Hypothesis Testing)"
   ]
  },
  {
   "cell_type": "code",
   "execution_count": 1,
   "metadata": {},
   "outputs": [],
   "source": [
    "import numpy as np\n",
    "import pandas as pd\n",
    "import matplotlib.pyplot as plt\n",
    "import seaborn as sns"
   ]
  },
  {
   "cell_type": "code",
   "execution_count": 2,
   "metadata": {},
   "outputs": [],
   "source": [
    "#Load the data\n",
    "data = pd.read_csv(r\"D:\\Backup\\Data Science\\IYKRA\\Tugas\\Dataset\\insurance.csv\").drop_duplicates()"
   ]
  },
  {
   "cell_type": "markdown",
   "metadata": {},
   "source": [
    "## 1.a The shape of the data"
   ]
  },
  {
   "cell_type": "code",
   "execution_count": 3,
   "metadata": {},
   "outputs": [
    {
     "data": {
      "text/plain": [
       "(1337, 7)"
      ]
     },
     "execution_count": 3,
     "metadata": {},
     "output_type": "execute_result"
    }
   ],
   "source": [
    "data.shape"
   ]
  },
  {
   "cell_type": "markdown",
   "metadata": {},
   "source": [
    "## 1.b The data type of each attribute"
   ]
  },
  {
   "cell_type": "code",
   "execution_count": 4,
   "metadata": {},
   "outputs": [
    {
     "data": {
      "text/plain": [
       "age           int64\n",
       "sex          object\n",
       "bmi         float64\n",
       "children      int64\n",
       "smoker       object\n",
       "region       object\n",
       "charges     float64\n",
       "dtype: object"
      ]
     },
     "execution_count": 4,
     "metadata": {},
     "output_type": "execute_result"
    }
   ],
   "source": [
    "data.dtypes"
   ]
  },
  {
   "cell_type": "markdown",
   "metadata": {},
   "source": [
    "## 1.c Checking the presence of missing values"
   ]
  },
  {
   "cell_type": "code",
   "execution_count": 5,
   "metadata": {},
   "outputs": [
    {
     "data": {
      "text/plain": [
       "age         0.0\n",
       "sex         0.0\n",
       "bmi         0.0\n",
       "children    0.0\n",
       "smoker      0.0\n",
       "region      0.0\n",
       "charges     0.0\n",
       "dtype: float64"
      ]
     },
     "execution_count": 5,
     "metadata": {},
     "output_type": "execute_result"
    }
   ],
   "source": [
    "data.isnull().sum() / len(data) * 100"
   ]
  },
  {
   "cell_type": "markdown",
   "metadata": {},
   "source": [
    "## 1.d 5 points summary of numerical attributes"
   ]
  },
  {
   "cell_type": "code",
   "execution_count": 6,
   "metadata": {},
   "outputs": [
    {
     "data": {
      "text/html": [
       "<div>\n",
       "<style scoped>\n",
       "    .dataframe tbody tr th:only-of-type {\n",
       "        vertical-align: middle;\n",
       "    }\n",
       "\n",
       "    .dataframe tbody tr th {\n",
       "        vertical-align: top;\n",
       "    }\n",
       "\n",
       "    .dataframe thead th {\n",
       "        text-align: right;\n",
       "    }\n",
       "</style>\n",
       "<table border=\"1\" class=\"dataframe\">\n",
       "  <thead>\n",
       "    <tr style=\"text-align: right;\">\n",
       "      <th></th>\n",
       "      <th>age</th>\n",
       "      <th>bmi</th>\n",
       "      <th>children</th>\n",
       "      <th>charges</th>\n",
       "    </tr>\n",
       "  </thead>\n",
       "  <tbody>\n",
       "    <tr>\n",
       "      <th>count</th>\n",
       "      <td>1337.000000</td>\n",
       "      <td>1337.000000</td>\n",
       "      <td>1337.000000</td>\n",
       "      <td>1337.000000</td>\n",
       "    </tr>\n",
       "    <tr>\n",
       "      <th>mean</th>\n",
       "      <td>39.222139</td>\n",
       "      <td>30.663452</td>\n",
       "      <td>1.095737</td>\n",
       "      <td>13279.121487</td>\n",
       "    </tr>\n",
       "    <tr>\n",
       "      <th>std</th>\n",
       "      <td>14.044333</td>\n",
       "      <td>6.100468</td>\n",
       "      <td>1.205571</td>\n",
       "      <td>12110.359656</td>\n",
       "    </tr>\n",
       "    <tr>\n",
       "      <th>min</th>\n",
       "      <td>18.000000</td>\n",
       "      <td>15.960000</td>\n",
       "      <td>0.000000</td>\n",
       "      <td>1121.873900</td>\n",
       "    </tr>\n",
       "    <tr>\n",
       "      <th>25%</th>\n",
       "      <td>27.000000</td>\n",
       "      <td>26.290000</td>\n",
       "      <td>0.000000</td>\n",
       "      <td>4746.344000</td>\n",
       "    </tr>\n",
       "    <tr>\n",
       "      <th>50%</th>\n",
       "      <td>39.000000</td>\n",
       "      <td>30.400000</td>\n",
       "      <td>1.000000</td>\n",
       "      <td>9386.161300</td>\n",
       "    </tr>\n",
       "    <tr>\n",
       "      <th>75%</th>\n",
       "      <td>51.000000</td>\n",
       "      <td>34.700000</td>\n",
       "      <td>2.000000</td>\n",
       "      <td>16657.717450</td>\n",
       "    </tr>\n",
       "    <tr>\n",
       "      <th>max</th>\n",
       "      <td>64.000000</td>\n",
       "      <td>53.130000</td>\n",
       "      <td>5.000000</td>\n",
       "      <td>63770.428010</td>\n",
       "    </tr>\n",
       "  </tbody>\n",
       "</table>\n",
       "</div>"
      ],
      "text/plain": [
       "               age          bmi     children       charges\n",
       "count  1337.000000  1337.000000  1337.000000   1337.000000\n",
       "mean     39.222139    30.663452     1.095737  13279.121487\n",
       "std      14.044333     6.100468     1.205571  12110.359656\n",
       "min      18.000000    15.960000     0.000000   1121.873900\n",
       "25%      27.000000    26.290000     0.000000   4746.344000\n",
       "50%      39.000000    30.400000     1.000000   9386.161300\n",
       "75%      51.000000    34.700000     2.000000  16657.717450\n",
       "max      64.000000    53.130000     5.000000  63770.428010"
      ]
     },
     "execution_count": 6,
     "metadata": {},
     "output_type": "execute_result"
    }
   ],
   "source": [
    "data.describe()"
   ]
  },
  {
   "cell_type": "markdown",
   "metadata": {},
   "source": [
    "## 1.e Distribution of 'bmi', 'age' and 'charges' columns"
   ]
  },
  {
   "cell_type": "code",
   "execution_count": 7,
   "metadata": {},
   "outputs": [
    {
     "data": {
      "text/plain": [
       "Text(0.5, 1.0, 'Distribution Of BMI')"
      ]
     },
     "execution_count": 7,
     "metadata": {},
     "output_type": "execute_result"
    },
    {
     "data": {
      "image/png": "[encoded data removed]",
      "text/plain": [
       "<Figure size 720x576 with 1 Axes>"
      ]
     },
     "metadata": {
      "needs_background": "light"
     },
     "output_type": "display_data"
    }
   ],
   "source": [
    "#Distribution of BMI\n",
    "plt.figure(figsize=(10,8))\n",
    "data.bmi.plot(kind='hist')\n",
    "plt.xlabel('bmi')\n",
    "plt.title('Distribution Of BMI')"
   ]
  },
  {
   "cell_type": "code",
   "execution_count": 8,
   "metadata": {},
   "outputs": [
    {
     "data": {
      "text/plain": [
       "Text(0.5, 1.0, 'Distribution Of Age')"
      ]
     },
     "execution_count": 8,
     "metadata": {},
     "output_type": "execute_result"
    },
    {
     "data": {
      "image/png": "[encoded data removed]",
      "text/plain": [
       "<Figure size 720x576 with 1 Axes>"
      ]
     },
     "metadata": {
      "needs_background": "light"
     },
     "output_type": "display_data"
    }
   ],
   "source": [
    "#Distribution of Age\n",
    "plt.figure(figsize=(10,8))\n",
    "data.age.plot(kind='hist')\n",
    "plt.xlabel('Age')\n",
    "plt.title('Distribution Of Age')"
   ]
  },
  {
   "cell_type": "code",
   "execution_count": 9,
   "metadata": {},
   "outputs": [
    {
     "data": {
      "text/plain": [
       "Text(0.5, 1.0, 'Distribution Of Charges')"
      ]
     },
     "execution_count": 9,
     "metadata": {},
     "output_type": "execute_result"
    },
    {
     "data": {
      "image/png": "[encoded data removed]",
      "text/plain": [
       "<Figure size 720x576 with 1 Axes>"
      ]
     },
     "metadata": {
      "needs_background": "light"
     },
     "output_type": "display_data"
    }
   ],
   "source": [
    "#Distribution of Charges\n",
    "plt.figure(figsize=(10,8))\n",
    "data.charges.plot(kind='hist')\n",
    "plt.xlabel('Charges')\n",
    "plt.title('Distribution Of Charges')"
   ]
  },
  {
   "cell_type": "markdown",
   "metadata": {},
   "source": [
    "## 1.f The measure of skewness of 'bmi', 'age', and 'charges' columns"
   ]
  },
  {
   "cell_type": "code",
   "execution_count": 10,
   "metadata": {},
   "outputs": [
    {
     "name": "stdout",
     "output_type": "stream",
     "text": [
      "The skewness of BMI variable is 0.28\n",
      "The skewness of Age variable is 0.05\n",
      "The skewness of Charges variable is 1.52\n"
     ]
    }
   ],
   "source": [
    "#Skewness of BMI\n",
    "print(\"The skewness of BMI variable is\", round(data.bmi.skew(),2))\n",
    "#Skewness of Age\n",
    "print(\"The skewness of Age variable is\", round(data.age.skew(),2))\n",
    "#Skewness of Charges\n",
    "print(\"The skewness of Charges variable is\", round(data.charges.skew(),2))"
   ]
  },
  {
   "cell_type": "markdown",
   "metadata": {},
   "source": [
    "## 1.g Checking the presence of outliers in 'bmi', 'age' and 'charges' columns"
   ]
  },
  {
   "cell_type": "code",
   "execution_count": 11,
   "metadata": {},
   "outputs": [],
   "source": [
    "#Mengitung persen outliers dari data    \n",
    "def percent_outliers(i):\n",
    "    Q1 = data[i].quantile(0.25)\n",
    "    Q3 = data[i].quantile(0.75)\n",
    "    IQR = Q3 - Q1\n",
    "    \n",
    "    #menentukan upper limit biasa dan upper limit ekstim\n",
    "    lower_limit = data[i].quantile(0.25) - (IQR * 1.5)\n",
    "    lower_limit_extreme = data[i].quantile(0.25) - (IQR * 3)\n",
    "    upper_limit = data[i].quantile(0.75) + (IQR * 1.5)\n",
    "    upper_limit_extreme = data[i].quantile(0.75) + (IQR * 3)\n",
    "    #melihat persenan outliers terhadap total data\n",
    "    print('Lower Limit: {} %'.format(data[(data[i] >= lower_limit)].shape[0]/ data.shape[0]*100))\n",
    "    print('Lower Limit Extereme: {} %'.format(data[(data[i] >= lower_limit_extreme)].shape[0]/data.shape[0]*100))\n",
    "    print('Upper Limit: {} %'.format(data[(data[i] >= upper_limit)].shape[0]/ data.shape[0]*100))\n",
    "    print('Upper Limit Extereme: {} %'.format(data[(data[i] >= upper_limit_extreme)].shape[0]/data.shape[0]*100))"
   ]
  },
  {
   "cell_type": "code",
   "execution_count": 12,
   "metadata": {},
   "outputs": [
    {
     "data": {
      "text/plain": [
       "Text(0.5, 1.0, 'Boxplot In BMI Column')"
      ]
     },
     "execution_count": 12,
     "metadata": {},
     "output_type": "execute_result"
    },
    {
     "data": {
      "image/png": "[encoded data removed]",
      "text/plain": [
       "<Figure size 720x576 with 1 Axes>"
      ]
     },
     "metadata": {
      "needs_background": "light"
     },
     "output_type": "display_data"
    }
   ],
   "source": [
    "#Outliers in BMI Column\n",
    "plt.figure(figsize=(10,8))\n",
    "sns.boxplot(data.bmi)\n",
    "plt.xlabel('BMI')\n",
    "plt.title('Boxplot In BMI Column')"
   ]
  },
  {
   "cell_type": "code",
   "execution_count": 13,
   "metadata": {},
   "outputs": [
    {
     "name": "stdout",
     "output_type": "stream",
     "text": [
      "Lower Limit: 100.0 %\n",
      "Lower Limit Extereme: 100.0 %\n",
      "Upper Limit: 0.6731488406881078 %\n",
      "Upper Limit Extereme: 0.0 %\n"
     ]
    }
   ],
   "source": [
    "#Perncet outliers in BMI Column\n",
    "percent_outliers('bmi')"
   ]
  },
  {
   "cell_type": "code",
   "execution_count": 14,
   "metadata": {},
   "outputs": [
    {
     "data": {
      "text/plain": [
       "Text(0.5, 1.0, 'Boxplot In Age Column')"
      ]
     },
     "execution_count": 14,
     "metadata": {},
     "output_type": "execute_result"
    },
    {
     "data": {
      "image/png": "[encoded data removed]",
      "text/plain": [
       "<Figure size 720x576 with 1 Axes>"
      ]
     },
     "metadata": {
      "needs_background": "light"
     },
     "output_type": "display_data"
    }
   ],
   "source": [
    "#Outliers in Age Column\n",
    "plt.figure(figsize=(10,8))\n",
    "sns.boxplot(data.age)\n",
    "plt.xlabel('Age')\n",
    "plt.title('Boxplot In Age Column')"
   ]
  },
  {
   "cell_type": "code",
   "execution_count": 15,
   "metadata": {},
   "outputs": [
    {
     "name": "stdout",
     "output_type": "stream",
     "text": [
      "Lower Limit: 100.0 %\n",
      "Lower Limit Extereme: 100.0 %\n",
      "Upper Limit: 0.0 %\n",
      "Upper Limit Extereme: 0.0 %\n"
     ]
    }
   ],
   "source": [
    "#Perncet outliers in Age Column\n",
    "percent_outliers('age')"
   ]
  },
  {
   "cell_type": "code",
   "execution_count": 16,
   "metadata": {},
   "outputs": [
    {
     "data": {
      "text/plain": [
       "Text(0.5, 1.0, 'Boxplot In Charges Column')"
      ]
     },
     "execution_count": 16,
     "metadata": {},
     "output_type": "execute_result"
    },
    {
     "data": {
      "image/png": "[encoded data removed]",
      "text/plain": [
       "<Figure size 720x576 with 1 Axes>"
      ]
     },
     "metadata": {
      "needs_background": "light"
     },
     "output_type": "display_data"
    }
   ],
   "source": [
    "#Outliers in Age Column\n",
    "plt.figure(figsize=(10,8))\n",
    "sns.boxplot(data.charges)\n",
    "plt.xlabel('Charges')\n",
    "plt.title('Boxplot In Charges Column')"
   ]
  },
  {
   "cell_type": "code",
   "execution_count": 17,
   "metadata": {},
   "outputs": [
    {
     "name": "stdout",
     "output_type": "stream",
     "text": [
      "Lower Limit: 100.0 %\n",
      "Lower Limit Extereme: 100.0 %\n",
      "Upper Limit: 10.396409872849663 %\n",
      "Upper Limit Extereme: 0.44876589379207177 %\n"
     ]
    }
   ],
   "source": [
    "#Perncet outliers in Charges Column\n",
    "percent_outliers('charges')"
   ]
  },
  {
   "cell_type": "markdown",
   "metadata": {},
   "source": [
    "## 2. Hypothesis Testing "
   ]
  },
  {
   "cell_type": "markdown",
   "metadata": {},
   "source": [
    "## Do charges of people who smoke differ significantly from the people who don't? (Hypothesis Testing)\n",
    "\n",
    "Steps to do Hypthesis Testing:\n",
    "   1. Define the null and alternate hypothesis\n",
    "\n",
    "   2. Define an analysis plan to find how to use sample data to estimate the null hypothesis\n",
    "\n",
    "   3. Test and Conclude based on test output\n"
   ]
  },
  {
   "cell_type": "markdown",
   "metadata": {},
   "source": [
    "## 2.1 Define Null & Alternate Hypthesis\n",
    "\n",
    "H0: There is **NO** a diffrenece on charges from smoker and non-smoker\n",
    "\n",
    "H1: There is a diffrenece on charges from smoker and non-smoker"
   ]
  },
  {
   "cell_type": "markdown",
   "metadata": {},
   "source": [
    "## 2.2 Define Analysis Plan\n",
    "\n",
    "1. Data Preparation\n",
    "\n",
    "2. Check The Normality\n",
    "\n",
    "3. Check Number Of Sample\n",
    "\n",
    "4. Check Independent / Related\n",
    "\n",
    "5. Choose The Appropriate Test"
   ]
  },
  {
   "cell_type": "markdown",
   "metadata": {},
   "source": [
    "### 2.2.1 Data Preparation"
   ]
  },
  {
   "cell_type": "code",
   "execution_count": 18,
   "metadata": {},
   "outputs": [
    {
     "name": "stdout",
     "output_type": "stream",
     "text": [
      "Number of non-smoker: 1063\n",
      "Number of smoker: 274\n"
     ]
    }
   ],
   "source": [
    "#Make a new data frame\n",
    "data_n = data[data[\"smoker\"] == \"no\"]\n",
    "data_y = data[data[\"smoker\"] == \"yes\"]\n",
    "print('Number of non-smoker:', len(data_n))\n",
    "print('Number of smoker:', len(data_y))"
   ]
  },
  {
   "cell_type": "code",
   "execution_count": 19,
   "metadata": {},
   "outputs": [],
   "source": [
    "s_no = data_n[\"charges\"]\n",
    "s_yes = data_y[\"charges\"]"
   ]
  },
  {
   "cell_type": "code",
   "execution_count": 20,
   "metadata": {},
   "outputs": [
    {
     "name": "stdout",
     "output_type": "stream",
     "text": [
      "-------------------------------------------------- Before\n",
      "(1063,)\n",
      "(274,)\n",
      "-------------------------------------------------- After\n",
      "(274,)\n",
      "(274,)\n"
     ]
    }
   ],
   "source": [
    "print('-'*50, \"Before\")\n",
    "print(s_no.shape)\n",
    "print(s_yes.shape)\n",
    "\n",
    "#Make dataset is equal\n",
    "s_no =  s_no.sample(n=274) \n",
    "\n",
    "print('-'*50, \"After\")\n",
    "print(s_no.shape)\n",
    "print(s_yes.shape)"
   ]
  },
  {
   "cell_type": "markdown",
   "metadata": {},
   "source": [
    "### 2.2.2 Check The Normality\n",
    "\n",
    "This test is to determine the paramteric or non-parametric test that we should take. If the distibution is no normal, then we have to take paramteric. If the distribution is not normal, then we have to choose non-parametric."
   ]
  },
  {
   "cell_type": "code",
   "execution_count": 21,
   "metadata": {},
   "outputs": [],
   "source": [
    "from scipy.stats import shapiro"
   ]
  },
  {
   "cell_type": "code",
   "execution_count": 22,
   "metadata": {},
   "outputs": [
    {
     "name": "stdout",
     "output_type": "stream",
     "text": [
      "The P-Value is: 8.221576902351507e-14\n",
      "------------------------------\n",
      "The distribution is Not normal\n"
     ]
    }
   ],
   "source": [
    "#Check the non smoker sample\n",
    "stat, p = shapiro(s_no)\n",
    "a = 0.5 #alpha (level of significance)\n",
    "\n",
    "print('The P-Value is:',p)\n",
    "print('-'*30)\n",
    "if p < a:\n",
    "    print(\"The distribution is Not normal\") #H1\n",
    "else:\n",
    "    print(\"The distribution is normal\") #H0"
   ]
  },
  {
   "cell_type": "code",
   "execution_count": 23,
   "metadata": {},
   "outputs": [
    {
     "name": "stdout",
     "output_type": "stream",
     "text": [
      "The P-Value is: 3.6251879276250065e-09\n",
      "------------------------------\n",
      "The distribution is Not normal\n"
     ]
    }
   ],
   "source": [
    "#Check the smoker sample\n",
    "stat, p = shapiro(s_yes)\n",
    "a = 0.5 #alpha (level of significance)\n",
    "\n",
    "print('The P-Value is:',p)\n",
    "print('-'*30)\n",
    "if p < a:\n",
    "    print(\"The distribution is Not normal\") #H1\n",
    "else:\n",
    "    print(\"The distribution is normal\") #H0"
   ]
  },
  {
   "cell_type": "markdown",
   "metadata": {},
   "source": [
    "### 2.2.3 Check Number Of Sample"
   ]
  },
  {
   "cell_type": "markdown",
   "metadata": {},
   "source": [
    "We have two sample, smoker and non-smoker. So we have **2 samples**"
   ]
  },
  {
   "cell_type": "markdown",
   "metadata": {},
   "source": [
    "### 2.2.4 Check Independent / Related"
   ]
  },
  {
   "cell_type": "markdown",
   "metadata": {},
   "source": [
    "From our sample, it is independent samples. Because the sample because it is not related each others. So the **samples is independent**"
   ]
  },
  {
   "cell_type": "markdown",
   "metadata": {},
   "source": [
    "### 2.2.5 Choose The Appropiate Test\n",
    "From several test before, we see that our samples distribution is not normal, we have two sample, and our sample is independent. So we can choose Mann-WhitneyU Test for this kind of hypthesis testing."
   ]
  },
  {
   "cell_type": "code",
   "execution_count": 24,
   "metadata": {},
   "outputs": [],
   "source": [
    "from scipy.stats import mannwhitneyu"
   ]
  },
  {
   "cell_type": "code",
   "execution_count": 25,
   "metadata": {},
   "outputs": [
    {
     "name": "stdout",
     "output_type": "stream",
     "text": [
      "p-value = 2.1723594092935224e-81\n",
      "------------------------------\n",
      "There is a diffrenece on charges from smoker and non-smoker\n"
     ]
    }
   ],
   "source": [
    "tstat2, pval2 = mannwhitneyu(s_no, s_yes)\n",
    "print('p-value =', pval2)\n",
    "print('-'*30)\n",
    "if pval2 < 0.05:\n",
    "    print('There is a diffrenece on charges from smoker and non-smoker') #H1\n",
    "else:\n",
    "    print('There is No a diffrenece on charges from smoker and non-smoker') #H0"
   ]
  },
  {
   "cell_type": "markdown",
   "metadata": {},
   "source": [
    "## 2.3 Conclude"
   ]
  },
  {
   "cell_type": "markdown",
   "metadata": {},
   "source": [
    "Based on hypothesis testing, we can say that there is no enough evidence to support Null hyphotesis or we can say we reject the null hypothesis. So the conclusion is **there is a difference on charges from smoker and non-smoker**."
   ]
  }
 ],
 "metadata": {
  "kernelspec": {
   "display_name": "Python 3",
   "language": "python",
   "name": "python3"
  },
  "language_info": {
   "codemirror_mode": {
    "name": "ipython",
    "version": 3
   },
   "file_extension": ".py",
   "mimetype": "text/x-python",
   "name": "python",
   "nbconvert_exporter": "python",
   "pygments_lexer": "ipython3",
   "version": "3.8.3"
  }
 },
 "nbformat": 4,
 "nbformat_minor": 4
}
